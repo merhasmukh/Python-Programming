{
 "cells": [
  {
   "cell_type": "markdown",
   "metadata": {
    "id": "X1mODQRPlMap"
   },
   "source": [
    "<h1>Functions In Python</h1>"
   ]
  },
  {
   "cell_type": "markdown",
   "metadata": {
    "id": "cHBCkr_3kF_M"
   },
   "source": [
    "### How To Create A Function"
   ]
  },
  {
   "cell_type": "code",
   "execution_count": 4,
   "metadata": {
    "colab": {
     "base_uri": "https://localhost:8080/"
    },
    "executionInfo": {
     "elapsed": 2729,
     "status": "ok",
     "timestamp": 1620185296638,
     "user": {
      "displayName": "Hasmukh Mer",
      "photoUrl": "",
      "userId": "00621887669129670036"
     },
     "user_tz": -330
    },
    "id": "pX2ZqVHZj1k_",
    "outputId": "c35db754-763f-4fff-a7fa-d9f9ba2c8395"
   },
   "outputs": [
    {
     "name": "stdout",
     "output_type": "stream",
     "text": [
      "Hasmukh\n"
     ]
    }
   ],
   "source": [
    "# def keyword use for create a function in python\n",
    "\n",
    "def myFun():\n",
    "    print(\"Hasmukh\")\n",
    "\n",
    "myFun()"
   ]
  },
  {
   "cell_type": "markdown",
   "metadata": {
    "id": "lsNpCZ8qkeqY"
   },
   "source": [
    "### How To Print Documents Written In Function"
   ]
  },
  {
   "cell_type": "code",
   "execution_count": 3,
   "metadata": {
    "colab": {
     "base_uri": "https://localhost:8080/"
    },
    "executionInfo": {
     "elapsed": 1329,
     "status": "ok",
     "timestamp": 1620185394210,
     "user": {
      "displayName": "Hasmukh Mer",
      "photoUrl": "",
      "userId": "00621887669129670036"
     },
     "user_tz": -330
    },
    "id": "hBNCW3KqktdC",
    "outputId": "b6b65709-e15b-4c8f-e48f-d596812b4008"
   },
   "outputs": [
    {
     "name": "stdout",
     "output_type": "stream",
     "text": [
      "This Is DocString In Python\n",
      "\n",
      "\n",
      "  Hi This Is The Documents \n",
      "  About docString Function\n",
      "\n",
      "  \n"
     ]
    }
   ],
   "source": [
    "\n",
    "def docString():\n",
    "    \"\"\"\n",
    "  Hi This Is The Documents \n",
    "  About docString Function\\n\n",
    "  \"\"\"\n",
    "    print(\"This Is DocString In Python\\n\")\n",
    "\n",
    "\n",
    "docString()\n",
    "print(docString.__doc__)"
   ]
  },
  {
   "cell_type": "markdown",
   "metadata": {
    "id": "nOyYvcfSlISp"
   },
   "source": [
    "### Function To reverse a Given String"
   ]
  },
  {
   "cell_type": "code",
   "execution_count": 3,
   "metadata": {
    "colab": {
     "base_uri": "https://localhost:8080/"
    },
    "executionInfo": {
     "elapsed": 1282,
     "status": "ok",
     "timestamp": 1620185700682,
     "user": {
      "displayName": "Hasmukh Mer",
      "photoUrl": "",
      "userId": "00621887669129670036"
     },
     "user_tz": -330
    },
    "id": "98NQLXrrlx0l",
    "outputId": "95bbc030-c2cb-42fa-a65d-e45c1bf8d55d"
   },
   "outputs": [
    {
     "name": "stdout",
     "output_type": "stream",
     "text": [
      "hkumsah\n"
     ]
    }
   ],
   "source": [
    "s=\"hasmukh\"\n",
    "\n",
    "def strev(mystr):\n",
    "\tprint(mystr[::-1])\n",
    "\t\n",
    "\t\n",
    "strev(s)\t\n",
    "#print(strev(s))"
   ]
  },
  {
   "cell_type": "markdown",
   "metadata": {
    "id": "A1PPAl_GmDpq"
   },
   "source": [
    "### Find Minimum Value From A Given List"
   ]
  },
  {
   "cell_type": "code",
   "execution_count": 4,
   "metadata": {
    "colab": {
     "base_uri": "https://localhost:8080/"
    },
    "executionInfo": {
     "elapsed": 1639,
     "status": "ok",
     "timestamp": 1620185760216,
     "user": {
      "displayName": "Hasmukh Mer",
      "photoUrl": "",
      "userId": "00621887669129670036"
     },
     "user_tz": -330
    },
    "id": "qN2SWIZLmJTi",
    "outputId": "1ab7f743-fda8-4cb4-dbfe-acb225959d7c"
   },
   "outputs": [
    {
     "name": "stdout",
     "output_type": "stream",
     "text": [
      "-2\n"
     ]
    }
   ],
   "source": [
    "\n",
    "\n",
    "def minValue(data):\n",
    "\tminx=0\n",
    "\tfor i in data:\n",
    "\t\tif i < minx:\n",
    "\t\t\tminx=i\n",
    "\tprint(minx)\n",
    "\n",
    "\n",
    "l1=[45,42,10,11,12,9,8,7,6,2,0,56,89,4,-1,-2]\n",
    "minValue(l1)"
   ]
  },
  {
   "cell_type": "markdown",
   "metadata": {
    "id": "NvG100FUmPGa"
   },
   "source": [
    "### Function For Find Maximum Value "
   ]
  },
  {
   "cell_type": "code",
   "execution_count": 25,
   "metadata": {
    "colab": {
     "base_uri": "https://localhost:8080/"
    },
    "executionInfo": {
     "elapsed": 3976,
     "status": "ok",
     "timestamp": 1620187830169,
     "user": {
      "displayName": "Hasmukh Mer",
      "photoUrl": "",
      "userId": "00621887669129670036"
     },
     "user_tz": -330
    },
    "id": "uTdosq7imVJi",
    "outputId": "a72ddc33-d626-41af-f060-a7dad8c8e6f3"
   },
   "outputs": [
    {
     "name": "stdout",
     "output_type": "stream",
     "text": [
      "105\n"
     ]
    }
   ],
   "source": [
    "\n",
    "\n",
    "def maxValue(data):\n",
    "\tmaxi=0\n",
    "\tfor i in data:\n",
    "\t\tif i > maxi:\n",
    "\t\t\tmaxi=i\n",
    "\tprint(maxi)\n",
    "\n",
    "\n",
    "l1=[45,42,10,11,12,9,8,7,6,2,100,105,56,89,4]\n",
    "maxValue(l1)"
   ]
  },
  {
   "cell_type": "markdown",
   "metadata": {
    "id": "A3s1eqmNmg3y"
   },
   "source": [
    "### Find Mean Value Of Given VAlues"
   ]
  },
  {
   "cell_type": "code",
   "execution_count": 1,
   "metadata": {
    "colab": {
     "base_uri": "https://localhost:8080/",
     "height": 129
    },
    "executionInfo": {
     "elapsed": 3213,
     "status": "error",
     "timestamp": 1620187189232,
     "user": {
      "displayName": "Hasmukh Mer",
      "photoUrl": "",
      "userId": "00621887669129670036"
     },
     "user_tz": -330
    },
    "id": "nHrtI2ikmmBG",
    "outputId": "332c0996-1d6d-4748-c812-a68de7ef5511"
   },
   "outputs": [
    {
     "name": "stdout",
     "output_type": "stream",
     "text": [
      "50.0\n",
      "101\n",
      "16.5\n",
      "8\n"
     ]
    }
   ],
   "source": [
    "#Find The Mean Value Of Given Values....\n",
    "\n",
    "def meanValue(data):\n",
    "\ttotal=0\n",
    "\tk=0\n",
    "\tfor i in data:\n",
    "\t\ttotal=total+i\n",
    "\t\tk=k+1\n",
    "\tmeanx= total/k\n",
    "\tprint(meanx)\n",
    "\tprint(k)\t\n",
    "\t\n",
    "l1=list(range(0,101))\n",
    "l2=[10,11,12,13,14,15,7,50]\n",
    "meanValue(l1)\t\n",
    "meanValue(l2)\n"
   ]
  }
 ],
 "metadata": {
  "colab": {
   "authorship_tag": "ABX9TyMwLuGyNEKnP7N29sPin4YS",
   "collapsed_sections": [],
   "name": "Function.ipynb",
   "provenance": []
  },
  "kernelspec": {
   "display_name": "Python 3",
   "language": "python",
   "name": "python3"
  },
  "language_info": {
   "codemirror_mode": {
    "name": "ipython",
    "version": 3
   },
   "file_extension": ".py",
   "mimetype": "text/x-python",
   "name": "python",
   "nbconvert_exporter": "python",
   "pygments_lexer": "ipython3",
   "version": "3.9.4"
  }
 },
 "nbformat": 4,
 "nbformat_minor": 1
}
